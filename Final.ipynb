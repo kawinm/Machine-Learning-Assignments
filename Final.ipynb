{
 "cells": [
  {
   "cell_type": "markdown",
   "id": "84f78522",
   "metadata": {},
   "source": [
    "### Importing the required packages\n"
   ]
  },
  {
   "cell_type": "code",
   "execution_count": null,
   "id": "42bb8979",
   "metadata": {},
   "outputs": [],
   "source": [
    "import string\n",
    "import numpy as np\n",
    "from scipy.stats import multivariate_normal\n",
    "import math\n",
    "import matplotlib.pyplot as plt\n",
    "\n"
   ]
  },
  {
   "cell_type": "markdown",
   "id": "2341bc5c",
   "metadata": {},
   "source": [
    "### Extract TF-IDF features"
   ]
  },
  {
   "cell_type": "code",
   "execution_count": null,
   "id": "05b03c36",
   "metadata": {},
   "outputs": [],
   "source": [
    "# Holds the words along with an index to identify the position in the term frequency vector\n",
    "vocabulary = {}\n",
    "cnt = 0\n",
    "sentences = []\n",
    "labels = []\n",
    "sentence_length = []\n",
    "\n",
    "with open(\"movieReviews1000.txt\", \"r\") as f:\n",
    "    \n",
    "    for line in f.readlines():\n",
    "        # Split the lines by whitespace\n",
    "        words = line.split(\" \")\n",
    "        word_count = 0\n",
    "        \n",
    "        new_words = []\n",
    "        for word in words[:-1]:\n",
    "            # Convert the words to lowercase for uniformity\n",
    "            word = word.lower()\n",
    "            \n",
    "            # Check if the word contains a single punctuation mark other than + which might denote positive and \n",
    "            # - which might indicate a negative sentiment\n",
    "            \n",
    "            if word == \"\" or ( word in string.punctuation and word != '+' and word != '-' ):\n",
    "                continue\n",
    "            # Stripping unwanted punctuations within a word\n",
    "            if word[-1] in ['?',';',':','&']:\n",
    "                word = word[:-1]\n",
    "            # Remove whitespaces obtained after preprocessing\n",
    "            \n",
    "            if word=='':\n",
    "                continue\n",
    "            new_words.append(word)\n",
    "            \n",
    "            # Create the unique vocabulary of words\n",
    "            word_count += 1\n",
    "            if word.lower() not in vocabulary:\n",
    "                    vocabulary[word.lower()] = cnt\n",
    "                    cnt+=1\n",
    "            \n",
    "            new_words.append(word.lower())\n",
    "            \n",
    "        # Append the words of the sentence as well as the sentence lengths\n",
    "        sentence_length.append(word_count)\n",
    "        sentences.append(new_words)\n",
    "        label = int(words[-1].strip())\n",
    "        labels.append(label)"
   ]
  },
  {
   "cell_type": "code",
   "execution_count": null,
   "id": "25567932",
   "metadata": {},
   "outputs": [
    {
     "name": "stdout",
     "output_type": "stream",
     "text": [
      "3176\n"
     ]
    }
   ],
   "source": [
    "# Printing the number of words in the vocabulary\n",
    "print(len(vocabulary))"
   ]
  },
  {
   "cell_type": "code",
   "execution_count": null,
   "id": "3e84ac0c",
   "metadata": {},
   "outputs": [],
   "source": [
    "# Finding the term frequency and document frequency\n",
    "tf_idf = np.zeros((len(vocabulary), 0))\n",
    "df = np.zeros((len(vocabulary), 1))\n",
    "\n",
    "\n",
    "# Finding the document frequency of each word\n",
    "for sentence in sentences:\n",
    "    seen_so_far = []\n",
    "    for word in sentence:\n",
    "        if word in seen_so_far:\n",
    "            continue\n",
    "        df[vocabulary[word]]+=1\n",
    "        seen_so_far.append(word)\n",
    "\n",
    "# Finding the term frequency of each word in a document\n",
    "for i in range(len(sentences)):\n",
    "    sentence = sentences[i]\n",
    "    tf = np.zeros((len(vocabulary), 1))\n",
    "    for word in sentence:\n",
    "        idx = vocabulary[word]\n",
    "        tf[idx] += 1\n",
    "    tf = (tf) * (1.0/ (sentence_length[i]))\n",
    "    tf_idf = np.append(tf_idf,tf,axis=1)\n",
    "\n",
    "# Computing the tf_idf matrix\n",
    "tf_idf = np.transpose(tf_idf)\n",
    "idf_diag = np.diag(np.log(1000/df))\n",
    "tf_idf = tf_idf * idf_diag"
   ]
  },
  {
   "cell_type": "markdown",
   "id": "78531e59",
   "metadata": {},
   "source": [
    "### Perform PCA on the embeddings to 10 dimensions"
   ]
  },
  {
   "cell_type": "code",
   "execution_count": null,
   "id": "57d76da2",
   "metadata": {},
   "outputs": [
    {
     "data": {
      "text/plain": [
       "(1000, 10)"
      ]
     },
     "execution_count": 5,
     "metadata": {},
     "output_type": "execute_result"
    }
   ],
   "source": [
    "from sklearn.decomposition import PCA\n",
    "pca= PCA(10)\n",
    "transformed_data = pca.fit_transform(tf_idf)\n",
    "transformed_data.shape"
   ]
  },
  {
   "cell_type": "markdown",
   "id": "97e5d8f7",
   "metadata": {},
   "source": [
    "### Plotting the scatter plot of the data points using their projections along the first two principal components"
   ]
  },
  {
   "cell_type": "code",
   "execution_count": null,
   "id": "b571f6c7",
   "metadata": {},
   "outputs": [
    {
     "data": {
      "image/png": "[encoded data removed]",
      "text/plain": [
       "<Figure size 432x288 with 1 Axes>"
      ]
     },
     "metadata": {
      "needs_background": "light"
     },
     "output_type": "display_data"
    }
   ],
   "source": [
    "import matplotlib.pyplot as plt\n",
    "for i in range(len(transformed_data)):\n",
    "    plt.scatter(transformed_data[i][0],transformed_data[i][1],c='k')\n",
    "plt.show()"
   ]
  },
  {
   "cell_type": "markdown",
   "id": "90a810b1",
   "metadata": {},
   "source": [
    "### Training a 2 Mixture GMM Model\n",
    "\n"
   ]
  },
  {
   "cell_type": "markdown",
   "id": "fa0d16e8",
   "metadata": {},
   "source": [
    "Parameters used\n",
    "- Number of clusters k\n",
    "- Maximum iterations for training the GMM Model max_iter\n",
    "- data_matrix of dimensions (1000 * 10)\n",
    "- centers :  a dictionary where centers[i] denote the mean of the ith cluster\n",
    "- cov : the covariance matrix associated with the data points assigned to each cluster\n",
    "\n",
    "\n",
    "multivariate_normal from scipy is used for getting the PDF value from a normal distribution"
   ]
  },
  {
   "cell_type": "code",
   "execution_count": null,
   "id": "7b34e80b",
   "metadata": {},
   "outputs": [],
   "source": [
    "class GMM:\n",
    "    \n",
    "    def __init__(self,k,N,data_matrix,max_iter=30):\n",
    "        self.k = k\n",
    "        self.d = data_matrix.shape[1]\n",
    "        self.max_iter = max_iter\n",
    "        self.data_matrix = data_matrix\n",
    "        self.colors = ['r','g','b','o','y']\n",
    "        self.centers = None\n",
    "        self.cov = None\n",
    "        self.N = N\n",
    "        self.pi = None\n",
    "        self.normal_curves = None\n",
    "        \n",
    "        self.labelled_points = None\n",
    "        \n",
    "    def initialize(self):\n",
    "        \n",
    "        split_points = np.split(self.data_matrix,self.k)\n",
    "        self.centers = {}\n",
    "        self.cov = {}\n",
    "        self.pi = {}\n",
    "        \n",
    "        # Split the dataset into K equal parts and compute their mean and covariance for the intial selection\n",
    "        # of mean and covariance parameters\n",
    "        \n",
    "        for i in range(len(split_points)):\n",
    "            self.centers[i] = np.mean(split_points[i],axis=0)\n",
    "            \n",
    "            # Suppress the non diagonal entries\n",
    "            covariance_matrix = np.cov(split_points[i].transpose()).diagonal()\n",
    "            diag_cov = np.eye(self.d)\n",
    "            for k in range(self.d):\n",
    "                diag_cov[k][k] = covariance_matrix[k]\n",
    "            \n",
    "            self.cov[i] = diag_cov\n",
    "            \n",
    "            #Initial value of importance given to each gaussian\n",
    "            self.pi[i] = 1.0/self.k\n",
    " \n",
    "\n",
    "    def plot(self,data_points):\n",
    "        \n",
    "        # Plot the scatter plots with colors associated with the gaussian distribution that gave \n",
    "        # maximum posterior probability\n",
    "\n",
    "        for point in data_points:\n",
    "            plt.scatter(point[0],point[1],c=self.colors[point[2]])\n",
    "       \n",
    "        # Black circles denote the projection of the mean vector of each cluster\n",
    "        for i in range(self.k):\n",
    "            plt.scatter(self.centers[i][0],self.centers[i][1],c='k')\n",
    "       \n",
    "        # Plot the scatter plot\n",
    "        plt.show()\n",
    "    \n",
    "    # The expectation step in the EM Algorithm\n",
    "    \n",
    "    def e_step(self):      \n",
    "        points_to_plot = []\n",
    "        for i in range(len(self.data_matrix)):\n",
    "            \n",
    "            # Compute the posterior probability p(l|x) where l refers to the cluster\n",
    "            probability = []\n",
    "            \n",
    "            \n",
    "            denominator = 0\n",
    "            # Denominator term for calculating posterior probabilities\n",
    "            for k in range(self.k):\n",
    "                prob_fn = multivariate_normal(self.centers[k],self.cov[k])\n",
    "                prob = prob_fn.pdf(self.data_matrix[i])\n",
    "                prob = self.pi[k]*prob\n",
    "                denominator+=prob\n",
    "                \n",
    "            # Doing class conditional likelihood * prior for each class\n",
    "            for k in range(self.k):\n",
    "                prob_fn = multivariate_normal(self.centers[k],self.cov[k])\n",
    "                prob = prob_fn.pdf(self.data_matrix[i])\n",
    "                prob = (self.pi[k]*prob)/denominator\n",
    "                probability.append(prob)\n",
    "           \n",
    "            # Find the cluster that gives maximum posterior probability\n",
    "            max_value = max(probability)\n",
    "            max_index = probability.index(max_value)\n",
    "            \n",
    "            points_to_plot.append((self.data_matrix[i][0],self.data_matrix[i][1],max_index))\n",
    "        \n",
    "        # The points to be plotted along with their class labels\n",
    "        self.labelled_points = points_to_plot\n",
    "        self.plot(points_to_plot)\n",
    "    \n",
    "    \n",
    "    # The Maximization step in EM Algorithm\n",
    "    def m_step(self):\n",
    "        \n",
    "        # Data structures for holding the next set of parameters\n",
    "        new_pi_k = {}\n",
    "        new_centers = {}\n",
    "        new_covs = {}\n",
    "        \n",
    "        \n",
    "        denominator = 0\n",
    "        for k in range(self.k):\n",
    "            \n",
    "        \n",
    "            # Computing alpha_l for each cluster (Formula used in class)\n",
    "            s = 0\n",
    "            for i in range(len(self.data_matrix)):\n",
    "                \n",
    "                denominator = 0\n",
    "                for khat in range(self.k):\n",
    "                    prob_fn = multivariate_normal(self.centers[khat],self.cov[khat])\n",
    "                    prob = prob_fn.pdf(self.data_matrix[i])\n",
    "                    prob = self.pi[khat]*prob\n",
    "                    denominator+=prob\n",
    "                \n",
    "                prob_fn = multivariate_normal(self.centers[k],self.cov[k])\n",
    "                numerator = prob_fn.pdf(self.data_matrix[i])\n",
    "                numerator = numerator*self.pi[k]\n",
    "                s+=(numerator/denominator)\n",
    "            \n",
    "            denominator = s\n",
    "            s = s*(1.0/self.N)\n",
    "            new_pi_k[k] = s\n",
    "            #print(new_pi_k)\n",
    "             \n",
    "            \n",
    "            # computing mu_l for each cluster (Formula used in class)\n",
    "            numerator = None\n",
    "            for i in range(len(self.data_matrix)):\n",
    "                \n",
    "                denom = 0\n",
    "                for khat in range(self.k):\n",
    "                    prob_fn = multivariate_normal(self.centers[khat],self.cov[khat])\n",
    "                    prob = prob_fn.pdf(self.data_matrix[i])\n",
    "                    prob = self.pi[khat]*prob\n",
    "                    denom+=prob\n",
    "                \n",
    "                prob_fn = multivariate_normal(self.centers[k],self.cov[k])\n",
    "                \n",
    "                num = prob_fn.pdf(self.data_matrix[i])\n",
    "                num = num * self.pi[k]\n",
    "                num = num * self.data_matrix[i]\n",
    "                num = num * (1.0/denom)\n",
    "                \n",
    "                if numerator is None:\n",
    "                    numerator = num\n",
    "                else:\n",
    "                    numerator = numerator +num\n",
    "            \n",
    "            new_centers[k] = numerator*(1.0/denominator)\n",
    "            \n",
    "            \n",
    "            # computing sigma_l for each cluster (Formula used in each class)\n",
    "            numerator = None\n",
    "            for i in range(len(self.data_matrix)):\n",
    "                \n",
    "                denom = 0\n",
    "                for khat in range(self.k):\n",
    "                    prob_fn = multivariate_normal(self.centers[khat],self.cov[khat])\n",
    "                    prob = prob_fn.pdf(self.data_matrix[i])\n",
    "                    prob = self.pi[khat]*prob\n",
    "                    denom+=prob\n",
    "            \n",
    "                prob_fn = multivariate_normal(self.centers[k],self.cov[k]) \n",
    "                num = prob_fn.pdf(self.data_matrix[i])\n",
    "                num = num * self.pi[k]\n",
    "                difference = (self.data_matrix[i] - new_centers[k]).reshape((-1,1))\n",
    "                num = num * (np.matmul(difference,difference.transpose()))\n",
    "                num = num * (1.0/denom)\n",
    "                \n",
    "                if numerator is None:\n",
    "                    numerator = num\n",
    "                else:\n",
    "                    numerator = numerator +num\n",
    "\n",
    "            new_covs[k] = numerator*(1.0/denominator)\n",
    "       \n",
    "        # Update the parameters for the next step of the EM Algorithm\n",
    "        self.pi = new_pi_k\n",
    "        self.centers = new_centers\n",
    "        self.cov = new_covs\n",
    "            \n",
    "    def em_algorithm(self):\n",
    "        for it in range(self.max_iter):\n",
    "            print(\"Iteration \" + str(it))\n",
    "            self.e_step()\n",
    "            self.m_step()\n",
    "                  \n"
   ]
  },
  {
   "cell_type": "code",
   "execution_count": null,
   "id": "6c59ab16",
   "metadata": {},
   "outputs": [
    {
     "name": "stdout",
     "output_type": "stream",
     "text": [
      "Iteration 0\n"
     ]
    },
    {
     "data": {
      "image/png": "[encoded data removed]",
      "text/plain": [
       "<Figure size 432x288 with 1 Axes>"
      ]
     },
     "metadata": {
      "needs_background": "light"
     },
     "output_type": "display_data"
    },
    {
     "name": "stdout",
     "output_type": "stream",
     "text": [
      "Iteration 1\n"
     ]
    },
    {
     "data": {
      "image/png": "[encoded data removed]",
      "text/plain": [
       "<Figure size 432x288 with 1 Axes>"
      ]
     },
     "metadata": {
      "needs_background": "light"
     },
     "output_type": "display_data"
    },
    {
     "name": "stdout",
     "output_type": "stream",
     "text": [
      "Iteration 2\n"
     ]
    },
    {
     "data": {
      "image/png": "[encoded data removed]",
      "text/plain": [
       "<Figure size 432x288 with 1 Axes>"
      ]
     },
     "metadata": {
      "needs_background": "light"
     },
     "output_type": "display_data"
    },
    {
     "name": "stdout",
     "output_type": "stream",
     "text": [
      "Iteration 3\n"
     ]
    },
    {
     "data": {
      "image/png": "[encoded data removed]",
      "text/plain": [
       "<Figure size 432x288 with 1 Axes>"
      ]
     },
     "metadata": {
      "needs_background": "light"
     },
     "output_type": "display_data"
    },
    {
     "name": "stdout",
     "output_type": "stream",
     "text": [
      "Iteration 4\n"
     ]
    },
    {
     "data": {
      "image/png": "[encoded data removed]",
      "text/plain": [
       "<Figure size 432x288 with 1 Axes>"
      ]
     },
     "metadata": {
      "needs_background": "light"
     },
     "output_type": "display_data"
    },
    {
     "name": "stdout",
     "output_type": "stream",
     "text": [
      "Iteration 5\n"
     ]
    },
    {
     "data": {
      "image/png": "[encoded data removed]",
      "text/plain": [
       "<Figure size 432x288 with 1 Axes>"
      ]
     },
     "metadata": {
      "needs_background": "light"
     },
     "output_type": "display_data"
    },
    {
     "name": "stdout",
     "output_type": "stream",
     "text": [
      "Iteration 6\n"
     ]
    },
    {
     "data": {
      "image/png": "[encoded data removed]",
      "text/plain": [
       "<Figure size 432x288 with 1 Axes>"
      ]
     },
     "metadata": {
      "needs_background": "light"
     },
     "output_type": "display_data"
    },
    {
     "name": "stdout",
     "output_type": "stream",
     "text": [
      "Iteration 7\n"
     ]
    },
    {
     "data": {
      "image/png": "[encoded data removed]",
      "text/plain": [
       "<Figure size 432x288 with 1 Axes>"
      ]
     },
     "metadata": {
      "needs_background": "light"
     },
     "output_type": "display_data"
    },
    {
     "name": "stdout",
     "output_type": "stream",
     "text": [
      "Iteration 8\n"
     ]
    },
    {
     "data": {
      "image/png": "[encoded data removed]",
      "text/plain": [
       "<Figure size 432x288 with 1 Axes>"
      ]
     },
     "metadata": {
      "needs_background": "light"
     },
     "output_type": "display_data"
    },
    {
     "name": "stdout",
     "output_type": "stream",
     "text": [
      "Iteration 9\n"
     ]
    },
    {
     "data": {
      "image/png": "[encoded data removed]",
      "text/plain": [
       "<Figure size 432x288 with 1 Axes>"
      ]
     },
     "metadata": {
      "needs_background": "light"
     },
     "output_type": "display_data"
    },
    {
     "name": "stdout",
     "output_type": "stream",
     "text": [
      "Iteration 10\n"
     ]
    },
    {
     "data": {
      "image/png": "[encoded data removed]",
      "text/plain": [
       "<Figure size 432x288 with 1 Axes>"
      ]
     },
     "metadata": {
      "needs_background": "light"
     },
     "output_type": "display_data"
    },
    {
     "name": "stdout",
     "output_type": "stream",
     "text": [
      "Iteration 11\n"
     ]
    },
    {
     "data": {
      "image/png": "[encoded data removed]",
      "text/plain": [
       "<Figure size 432x288 with 1 Axes>"
      ]
     },
     "metadata": {
      "needs_background": "light"
     },
     "output_type": "display_data"
    },
    {
     "name": "stdout",
     "output_type": "stream",
     "text": [
      "Iteration 12\n"
     ]
    },
    {
     "data": {
      "image/png": "[encoded data removed]",
      "text/plain": [
       "<Figure size 432x288 with 1 Axes>"
      ]
     },
     "metadata": {
      "needs_background": "light"
     },
     "output_type": "display_data"
    },
    {
     "name": "stdout",
     "output_type": "stream",
     "text": [
      "Iteration 13\n"
     ]
    },
    {
     "data": {
      "image/png": "[encoded data removed]",
      "text/plain": [
       "<Figure size 432x288 with 1 Axes>"
      ]
     },
     "metadata": {
      "needs_background": "light"
     },
     "output_type": "display_data"
    },
    {
     "name": "stdout",
     "output_type": "stream",
     "text": [
      "Iteration 14\n"
     ]
    },
    {
     "data": {
      "image/png": "[encoded data removed]",
      "text/plain": [
       "<Figure size 432x288 with 1 Axes>"
      ]
     },
     "metadata": {
      "needs_background": "light"
     },
     "output_type": "display_data"
    },
    {
     "name": "stdout",
     "output_type": "stream",
     "text": [
      "Iteration 15\n"
     ]
    },
    {
     "data": {
      "image/png": "[encoded data removed]",
      "text/plain": [
       "<Figure size 432x288 with 1 Axes>"
      ]
     },
     "metadata": {
      "needs_background": "light"
     },
     "output_type": "display_data"
    },
    {
     "name": "stdout",
     "output_type": "stream",
     "text": [
      "Iteration 16\n"
     ]
    },
    {
     "data": {
      "image/png": "[encoded data removed]",
      "text/plain": [
       "<Figure size 432x288 with 1 Axes>"
      ]
     },
     "metadata": {
      "needs_background": "light"
     },
     "output_type": "display_data"
    },
    {
     "name": "stdout",
     "output_type": "stream",
     "text": [
      "Iteration 17\n"
     ]
    },
    {
     "data": {
      "image/png": "[encoded data removed]",
      "text/plain": [
       "<Figure size 432x288 with 1 Axes>"
      ]
     },
     "metadata": {
      "needs_background": "light"
     },
     "output_type": "display_data"
    },
    {
     "name": "stdout",
     "output_type": "stream",
     "text": [
      "Iteration 18\n"
     ]
    },
    {
     "data": {
      "image/png": "[encoded data removed]",
      "text/plain": [
       "<Figure size 432x288 with 1 Axes>"
      ]
     },
     "metadata": {
      "needs_background": "light"
     },
     "output_type": "display_data"
    },
    {
     "name": "stdout",
     "output_type": "stream",
     "text": [
      "Iteration 19\n"
     ]
    },
    {
     "data": {
      "image/png": "[encoded data removed]",
      "text/plain": [
       "<Figure size 432x288 with 1 Axes>"
      ]
     },
     "metadata": {
      "needs_background": "light"
     },
     "output_type": "display_data"
    },
    {
     "name": "stdout",
     "output_type": "stream",
     "text": [
      "Iteration 20\n"
     ]
    },
    {
     "data": {
      "image/png": "[encoded data removed]",
      "text/plain": [
       "<Figure size 432x288 with 1 Axes>"
      ]
     },
     "metadata": {
      "needs_background": "light"
     },
     "output_type": "display_data"
    },
    {
     "name": "stdout",
     "output_type": "stream",
     "text": [
      "Iteration 21\n"
     ]
    },
    {
     "data": {
      "image/png": "[encoded data removed]",
      "text/plain": [
       "<Figure size 432x288 with 1 Axes>"
      ]
     },
     "metadata": {
      "needs_background": "light"
     },
     "output_type": "display_data"
    },
    {
     "name": "stdout",
     "output_type": "stream",
     "text": [
      "Iteration 22\n"
     ]
    },
    {
     "data": {
      "image/png": "[encoded data removed]",
      "text/plain": [
       "<Figure size 432x288 with 1 Axes>"
      ]
     },
     "metadata": {
      "needs_background": "light"
     },
     "output_type": "display_data"
    },
    {
     "name": "stdout",
     "output_type": "stream",
     "text": [
      "Iteration 23\n"
     ]
    },
    {
     "data": {
      "image/png": "[encoded data removed]",
      "text/plain": [
       "<Figure size 432x288 with 1 Axes>"
      ]
     },
     "metadata": {
      "needs_background": "light"
     },
     "output_type": "display_data"
    },
    {
     "name": "stdout",
     "output_type": "stream",
     "text": [
      "Iteration 24\n"
     ]
    },
    {
     "data": {
      "image/png": "[encoded data removed]",
      "text/plain": [
       "<Figure size 432x288 with 1 Axes>"
      ]
     },
     "metadata": {
      "needs_background": "light"
     },
     "output_type": "display_data"
    },
    {
     "name": "stdout",
     "output_type": "stream",
     "text": [
      "Iteration 25\n"
     ]
    },
    {
     "data": {
      "image/png": "[encoded data removed]",
      "text/plain": [
       "<Figure size 432x288 with 1 Axes>"
      ]
     },
     "metadata": {
      "needs_background": "light"
     },
     "output_type": "display_data"
    },
    {
     "name": "stdout",
     "output_type": "stream",
     "text": [
      "Iteration 26\n"
     ]
    },
    {
     "data": {
      "image/png": "[encoded data removed]",
      "text/plain": [
       "<Figure size 432x288 with 1 Axes>"
      ]
     },
     "metadata": {
      "needs_background": "light"
     },
     "output_type": "display_data"
    },
    {
     "name": "stdout",
     "output_type": "stream",
     "text": [
      "Iteration 27\n"
     ]
    },
    {
     "data": {
      "image/png": "[encoded data removed]",
      "text/plain": [
       "<Figure size 432x288 with 1 Axes>"
      ]
     },
     "metadata": {
      "needs_background": "light"
     },
     "output_type": "display_data"
    },
    {
     "name": "stdout",
     "output_type": "stream",
     "text": [
      "Iteration 28\n"
     ]
    },
    {
     "data": {
      "image/png": "[encoded data removed]",
      "text/plain": [
       "<Figure size 432x288 with 1 Axes>"
      ]
     },
     "metadata": {
      "needs_background": "light"
     },
     "output_type": "display_data"
    },
    {
     "name": "stdout",
     "output_type": "stream",
     "text": [
      "Iteration 29\n"
     ]
    },
    {
     "data": {
      "image/png": "[encoded data removed]",
      "text/plain": [
       "<Figure size 432x288 with 1 Axes>"
      ]
     },
     "metadata": {
      "needs_background": "light"
     },
     "output_type": "display_data"
    }
   ],
   "source": [
    "gmm = GMM(2,1000,transformed_data)\n",
    "gmm.initialize()\n",
    "gmm.em_algorithm()"
   ]
  },
  {
   "cell_type": "markdown",
   "id": "0ba7752e",
   "metadata": {},
   "source": [
    "### Checking if the cluster Identity is correlating with the true label for each review"
   ]
  },
  {
   "cell_type": "markdown",
   "id": "3a21bad6",
   "metadata": {},
   "source": [
    "Taking points which are marked with red corresponding to negative sentiment and points which are green to be of positive sentiment"
   ]
  },
  {
   "cell_type": "code",
   "execution_count": null,
   "id": "f16bdffd",
   "metadata": {},
   "outputs": [
    {
     "name": "stdout",
     "output_type": "stream",
     "text": [
      "Accuracy of cluster Identity  = 47.0\n"
     ]
    }
   ],
   "source": [
    "labelled_points = gmm.labelled_points\n",
    "count=0\n",
    "for i in range(len(labels)):\n",
    "    predicted_cluster = labelled_points[i][2]\n",
    "    original_class = labels[i]\n",
    "    if original_class == predicted_cluster:\n",
    "        count+=1\n",
    "    \n",
    "print(\"Accuracy of cluster Identity  = \" + str(float(count)/len(labels)*100))"
   ]
  },
  {
   "cell_type": "code",
   "execution_count": null,
   "id": "1eace878",
   "metadata": {},
   "outputs": [],
   "source": []
  },
  {
   "cell_type": "code",
   "execution_count": null,
   "id": "10831b70",
   "metadata": {},
   "outputs": [],
   "source": []
  }
 ],
 "metadata": {
  "kernelspec": {
   "display_name": "Python 3 (ipykernel)",
   "language": "python",
   "name": "python3"
  },
  "language_info": {
   "codemirror_mode": {
    "name": "ipython",
    "version": 3
   },
   "file_extension": ".py",
   "mimetype": "text/x-python",
   "name": "python",
   "nbconvert_exporter": "python",
   "pygments_lexer": "ipython3",
   "version": "3.9.7"
  }
 },
 "nbformat": 4,
 "nbformat_minor": 5
}
